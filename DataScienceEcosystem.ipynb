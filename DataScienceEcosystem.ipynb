{
 "cells": [
  {
   "cell_type": "markdown",
   "id": "c15b7ecf-dcd1-44dd-8cfd-cba7e375fcc1",
   "metadata": {},
   "source": [
    "<H1>Data Science Tools and Ecosystem</H1>"
   ]
  },
  {
   "cell_type": "markdown",
   "id": "b0a472c4-268a-46d4-8b6f-446de40964d4",
   "metadata": {},
   "source": [
    "In this notebook, Data Science Tools and Ecosystem are summarized."
   ]
  },
  {
   "cell_type": "markdown",
   "id": "0eb3c1ce-23cd-4115-a60d-682abc6b2762",
   "metadata": {},
   "source": [
    "**Objectives:**\n",
    "\n",
    "- List popular languages for Data Science\n",
    "- Describe common libraries used in Data Science\n",
    "- Demonstrate basic arithmetic operations in Python\n",
    "- Convert units of measurement (e.g., minutes to hours)\n",
    "- Explain development environment tools in Data Science\n"
   ]
  },
  {
   "cell_type": "markdown",
   "id": "9e26ac2a-8bf7-4562-a352-1f9a9c3b6855",
   "metadata": {},
   "source": [
    "Some of the popular languages that Data Scientists use are:"
   ]
  },
  {
   "cell_type": "markdown",
   "id": "af977207-b44c-4bbc-885c-bc567fe07999",
   "metadata": {},
   "source": [
    "1. Python\n",
    "2. R\n",
    "3. Java"
   ]
  },
  {
   "cell_type": "markdown",
   "id": "96e5003d-6ab0-47cc-a9ac-7e44b4f37677",
   "metadata": {},
   "source": [
    "Some of the commonly used libraries used by Data Scientists include:"
   ]
  },
  {
   "cell_type": "markdown",
   "id": "9cb60d24-a4fe-4845-9c74-8aa019abd4ca",
   "metadata": {},
   "source": [
    "1. NumPy\n",
    "2. pandas\n",
    "3. Matplotlib"
   ]
  },
  {
   "cell_type": "markdown",
   "id": "f27ad92f-4b7f-4d98-ac97-4598d09ef309",
   "metadata": {},
   "source": [
    "|Data Science Tools|\n",
    "|------------------|\n",
    "|Jupyter Notebook  |\n",
    "|RStudio           |\n",
    "|Apache Zeppelin   |"
   ]
  },
  {
   "cell_type": "markdown",
   "id": "f425ad17-b9b5-454b-a255-590891169c46",
   "metadata": {},
   "source": [
    "### Below are a few examples of evaluating arithmetic expressions in Python."
   ]
  },
  {
   "cell_type": "code",
   "execution_count": 24,
   "id": "4f527fe1-c088-4957-a686-ac9ab142dc0e",
   "metadata": {},
   "outputs": [
    {
     "data": {
      "text/plain": [
       "17"
      ]
     },
     "execution_count": 24,
     "metadata": {},
     "output_type": "execute_result"
    }
   ],
   "source": [
    "# This is a simple arithmetic expression to multiply then add integers.\n",
    "(3 * 4) + 5\n"
   ]
  },
  {
   "cell_type": "code",
   "execution_count": 26,
   "id": "51eb4cf4-7f31-4f3c-a8a5-81f8276eb144",
   "metadata": {},
   "outputs": [
    {
     "data": {
      "text/plain": [
       "3.3333333333333335"
      ]
     },
     "execution_count": 26,
     "metadata": {},
     "output_type": "execute_result"
    }
   ],
   "source": [
    "# This will convert 200 minutes to hours by dividing by 60\n",
    "200 / 60\n"
   ]
  },
  {
   "cell_type": "markdown",
   "id": "533db095-6bd4-484a-b3b2-0f1caf4a4f4c",
   "metadata": {},
   "source": [
    "## Author\n",
    "\n",
    "Mateusz Pilarczyk"
   ]
  },
  {
   "cell_type": "code",
   "execution_count": null,
   "id": "08e404ea-4f83-4b34-b39d-d6479ea7381a",
   "metadata": {},
   "outputs": [],
   "source": []
  }
 ],
 "metadata": {
  "kernelspec": {
   "display_name": "Python 3 (ipykernel)",
   "language": "python",
   "name": "python3"
  },
  "language_info": {
   "codemirror_mode": {
    "name": "ipython",
    "version": 3
   },
   "file_extension": ".py",
   "mimetype": "text/x-python",
   "name": "python",
   "nbconvert_exporter": "python",
   "pygments_lexer": "ipython3",
   "version": "3.12.4"
  }
 },
 "nbformat": 4,
 "nbformat_minor": 5
}
